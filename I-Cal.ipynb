{
 "cells": [
  {
   "cell_type": "markdown",
   "id": "2a93f8da",
   "metadata": {},
   "source": [
    "# IDeal Calculator "
   ]
  },
  {
   "cell_type": "code",
   "execution_count": 1,
   "id": "a52b2638",
   "metadata": {},
   "outputs": [],
   "source": [
    "# Addition\n",
    "def add(num1, num2):\n",
    "    return num1 + num2"
   ]
  },
  {
   "cell_type": "markdown",
   "id": "7f7f6f61",
   "metadata": {},
   "source": [
    "The function is named **'add'.**  \n",
    "This function takes **two numbers** as input.  \n",
    "It **adds** these two numbers together.  \n",
    "It returns the result of the **addition.**  "
   ]
  },
  {
   "cell_type": "code",
   "execution_count": 2,
   "id": "cd581a7a",
   "metadata": {},
   "outputs": [],
   "source": [
    "# subtraction\n",
    "def subtract(num1, num2):\n",
    "    result = num1 - num2\n",
    "    if result < 0:\n",
    "        absolute_value_option = input(\"Do you want to display the result in absolute value? (Y/N): \")\n",
    "        if absolute_value_option.lower() == 'y':\n",
    "            result = abs(result)\n",
    "    return result\n"
   ]
  },
  {
   "cell_type": "markdown",
   "id": "59a33df9",
   "metadata": {},
   "source": [
    "The function **'subtract'** takes two numbers (**'num1' and 'num2'**) as input.  \n",
    "It calculates the difference between **'num1'** and **'num2'**.  \n",
    "If the result is negative, it prompts the user to choose whether to display the result in absolute value.  \n",
    "If the user selects 'Y' or 'y', it converts the negative result to its absolute value using the **'abs()'** function.  \n",
    "Finally, the function returns the result, whether it's original or absolute value based on user input.  "
   ]
  },
  {
   "cell_type": "code",
   "execution_count": 3,
   "id": "c4548e0c",
   "metadata": {},
   "outputs": [],
   "source": [
    "\n",
    "# Multiplication\n",
    "def multiply(num1, num2):\n",
    "    return num1 * num2\n"
   ]
  },
  {
   "cell_type": "markdown",
   "id": "687f4d21",
   "metadata": {},
   "source": [
    "The code defines a function named **'multiply'.**  \n",
    "This function takes two parameters: **num1** and **num2**.  \n",
    "Inside the function, it calculates the product of num1 and num2 using the * operator.  "
   ]
  },
  {
   "cell_type": "code",
   "execution_count": 4,
   "id": "12a78e4b",
   "metadata": {},
   "outputs": [],
   "source": [
    "# Division\n",
    "def divide(num1, num2):\n",
    "    if num2 == 0:\n",
    "        return \"Error: Division by zero!\"\n",
    "    else:\n",
    "        return num1 / num2"
   ]
  },
  {
   "cell_type": "markdown",
   "id": "be4eea95",
   "metadata": {},
   "source": [
    "The code defines a function named **'divide'** for performing division.  \n",
    "It takes two parameters: **'num1'** and **'num2'**, representing the dividend and divisor, respectively.  \n",
    "It first checks if the divisor **'num2'** is equal to zero.  \n",
    " If **'num2'** is zero, the function returns an error message indicating division by zero is not allowed.  \n",
    " If **'num2'** is not zero, the function proceeds to perform the division.  \n",
    "If division is valid (i.e., **'num2'** is not zero), the function returns the result of dividing num1 by num2.  "
   ]
  },
  {
   "cell_type": "code",
   "execution_count": 5,
   "id": "efd57c64",
   "metadata": {},
   "outputs": [],
   "source": [
    "# Float division\n",
    "def float_divide(num1, num2):\n",
    "    if num2 == 0:\n",
    "        return \"Error: Division by zero!\"\n",
    "    else:\n",
    "        return num1 // num2\n"
   ]
  },
  {
   "cell_type": "markdown",
   "id": "79dc668b",
   "metadata": {},
   "source": [
    "The code defines a function named **'float_divide'** for division.  \n",
    "It checks if the divisor **'num2'** is zero.  \n",
    "If **'num2'** is zero, it returns an error message for division by zero.  \n",
    "Otherwise, it performs division using integer division ('//').  \n",
    "However, it should use floating-point division ('/') instead of integer division for accurate results.  \n",
    "Fixing this would ensure correct floating-point division between 'num1' and 'num2'.  \n",
    "To use this function, provide two numbers as arguments, ensuring the divisor ('num2') is not zero.  "
   ]
  },
  {
   "cell_type": "code",
   "execution_count": 6,
   "id": "5e31b632",
   "metadata": {},
   "outputs": [],
   "source": [
    "# Modulo\n",
    "def modulo(num1, num2):\n",
    "    if num2 == 0:\n",
    "        return \"Error: Modulo by zero!\"\n",
    "    else:\n",
    "        return num1 % num2"
   ]
  },
  {
   "cell_type": "markdown",
   "id": "3864b33a",
   "metadata": {},
   "source": [
    "The code defines a function named **'modulo'** for computing the remainder of division between two numbers.  \n",
    "It takes two parameters: **'num1'** (the dividend) and **'num2'** (the divisor).  \n",
    "It checks if the divisor **'num2'** is zero.  \n",
    "If **'num2'** is zero, it returns an error message indicating modulo operation by zero is not allowed.  \n",
    "Otherwise, it proceeds to compute the remainder using the modulo operator **'%'**.  \n",
    "To use this function, provide two numbers as arguments, ensuring that the divisor (**'num2'**) is not zero to avoid division by zero errors."
   ]
  },
  {
   "cell_type": "code",
   "execution_count": null,
   "id": "5ec43121",
   "metadata": {},
   "outputs": [],
   "source": [
    "# Main function\n",
    "def main():\n",
    "    num1 = int(input('Enter first number: '))\n",
    "    num2 = int(input('Enter second number: '))\n",
    "    operator = input('Enter an operator (-, +, *, /, //, %): ')\n",
    "\n",
    "    if operator == '-':\n",
    "        result = subtract(num1, num2)\n",
    "        print(f\"The difference of {num1} and {num2} is {result}\")\n",
    "    elif operator == '+':\n",
    "        result = add(num1, num2)\n",
    "        print(f\"The sum of {num1} and {num2} is {result}\")\n",
    "    elif operator == '*':\n",
    "        result = multiply(num1, num2)\n",
    "        print(f\"The product of {num1} and {num2} is {result}\")\n",
    "    elif operator == '/':\n",
    "        result = divide(num1, num2)\n",
    "        print(f\"The quotient of {num1} and {num2} is {result}\")\n",
    "    elif operator == '//':\n",
    "        result = float_divide(num1, num2)\n",
    "        print(f\"The quotient of {num1} and {num2} is {result}\")\n",
    "    elif operator == '%':\n",
    "        result = modulo(num1, num2)\n",
    "        print(f\"The remainder of {num1} divided by {num2} is {result}\")\n",
    "    else:\n",
    "        print(\"Invalid operator entered!\")\n",
    "\n",
    "if __name__ == \"__main__\":\n",
    "    main()\n"
   ]
  },
  {
   "cell_type": "markdown",
   "id": "5ae28928",
   "metadata": {},
   "source": [
    "The code defines a **'main()'** function to handle the user input and perform arithmetic operations.  \n",
    "It prompts the user to enter two numbers ('num1' and 'num2') and an operator ('operator').  \n",
    "Based on the entered operator, it calls the corresponding function ('add', 'subtract', 'multiply', 'divide', 'float_divide', or 'modulo') to perform the arithmetic operation.  \n",
    "It then prints the result of the operation along with a descriptive message.  \n",
    "The code block if __name__ == \"__main__\": ensures that the main() function is executed only when the script is run directly, not when it's imported as a module into another script.  "
   ]
  }
 ],
 "metadata": {
  "kernelspec": {
   "display_name": "Python 3 (ipykernel)",
   "language": "python",
   "name": "python3"
  },
  "language_info": {
   "codemirror_mode": {
    "name": "ipython",
    "version": 3
   },
   "file_extension": ".py",
   "mimetype": "text/x-python",
   "name": "python",
   "nbconvert_exporter": "python",
   "pygments_lexer": "ipython3",
   "version": "3.11.5"
  }
 },
 "nbformat": 4,
 "nbformat_minor": 5
}
